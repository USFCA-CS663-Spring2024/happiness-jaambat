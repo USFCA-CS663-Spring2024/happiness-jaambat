{
 "cells": [
  {
   "cell_type": "markdown",
   "source": [
    "# Happiness - Assignment 1\n",
    "```\n",
    "James Ambat\n",
    "Assignment 1\n",
    "CS-663\n",
    "```"
   ],
   "metadata": {
    "collapsed": false
   }
  },
  {
   "cell_type": "markdown",
   "source": [
    "# My Setup\n",
    "\n",
    "From the terminal, create and activate the virtual environment:\n",
    "```\n",
    "cd happiness-jaambat\n",
    "mkdir venv\n",
    "python3 -m venv ./venv\n",
    "source venv/bin/activate\n",
    "```\n",
    "\n",
    "I used PyCharm IDE for development and linked the interpreter with the following steps:\n",
    "```\n",
    "Pycharm -> Settings -> Project: happiness-jaambat\n",
    "Python Interpretter -> Add Interpretter\n",
    "Add Local Interpretter -> /happiness-jaambat/venv\n",
    "```\n",
    "\n",
    "From the terminal, install the required libraries:\n",
    "```\n",
    "pip install -r requirements.txt\n",
    "```"
   ],
   "metadata": {
    "collapsed": false
   }
  },
  {
   "cell_type": "markdown",
   "source": [
    "### __Import the libraries for use in the assignment__"
   ],
   "metadata": {
    "collapsed": false
   }
  },
  {
   "cell_type": "code",
   "execution_count": 36,
   "outputs": [],
   "source": [
    "import pandas as pd"
   ],
   "metadata": {
    "collapsed": false,
    "ExecuteTime": {
     "end_time": "2024-01-26T04:11:24.725919Z",
     "start_time": "2024-01-26T04:11:24.675466Z"
    }
   }
  },
  {
   "cell_type": "markdown",
   "source": [
    "# Question 1\n",
    "## The following questions will be addressed in separate headers and cells:\n",
    "1.1 What is your evaluation of the quality of the data?\n",
    "1.2 How large is the dataset?\n",
    "1.3 What are the features (columns) and how are they represented?\n",
    "1.4 Are there any interesting distributions in the (numeric) features?\n",
    "1.5 Are there any interesting correlations in the data?\n",
    "1.6 Can you identify any limitations, missing values or distortions of the data?\n",
    "1.7 What would you like to see in this dataset?"
   ],
   "metadata": {
    "collapsed": false
   }
  },
  {
   "cell_type": "markdown",
   "source": [
    "#### Read in the data so that it can be analyzed\n",
    "From the routine below, there is only one sheet named **Sheet1**"
   ],
   "metadata": {
    "collapsed": false
   }
  },
  {
   "cell_type": "code",
   "execution_count": 37,
   "outputs": [
    {
     "name": "stdout",
     "output_type": "stream",
     "text": [
      "The sheets in the excel file: ['Sheet1']\n",
      "Number of sheets in the excel file 1\n"
     ]
    }
   ],
   "source": [
    "whr_file = \"./DataForTable2.1WHR2023.xls\"\n",
    "whr_data_frame = pd.ExcelFile(whr_file)\n",
    "sheet_names = whr_data_frame.sheet_names\n",
    "print(f\"The sheets in the excel file: {str(sheet_names)}\")\n",
    "print(f\"Number of sheets in the excel file {len(sheet_names)}\")"
   ],
   "metadata": {
    "collapsed": false,
    "ExecuteTime": {
     "end_time": "2024-01-26T04:11:24.764507Z",
     "start_time": "2024-01-26T04:11:24.681386Z"
    }
   }
  },
  {
   "cell_type": "markdown",
   "source": [
    "#### The single sheet is read-in:"
   ],
   "metadata": {
    "collapsed": false
   }
  },
  {
   "cell_type": "code",
   "execution_count": 38,
   "outputs": [],
   "source": [
    "sheet_name = sheet_names[0]\n",
    "whr_data_frame = pd.read_excel(io=whr_file, sheet_name=sheet_name)"
   ],
   "metadata": {
    "collapsed": false,
    "ExecuteTime": {
     "end_time": "2024-01-26T04:11:24.827394Z",
     "start_time": "2024-01-26T04:11:24.714340Z"
    }
   }
  },
  {
   "cell_type": "markdown",
   "source": [
    "## 1.1 What is your evaluation of the quality of the data?\n",
    "* To evaluate the data, it is necessary to inspect relevant information such as occurrences, mean, standard deviation, min, max, and distribution.\n",
    "  * The routines used to acquire this data are outlined in the cells **below**. See header **1.1 Calculations**.\n",
    "* 1.1.a While we can inspect a range index of **2199** rows in the data frame, **Country Name, year, and Life Ladder** are the only features that have non-null values that match the quantities of the entire index range. The rest of the features are missing some entries.\n",
    "  * For example, perceptions of corruption is actually missing (116) entries which represents ~5.2% of missing data.\n",
    "* 1.1.b At this point in the evaluation, I use the dataframe's describe() info and calculation of the `std < mean + min`, to make the following observations for each **numerical** feature as it relates to being a normal distribution.\n",
    "  * **These will be later confirmed with bar charts, skewness, and kurtosis evaluations.**\n",
    "  * **year** - looks to be a normal distribution. Its **standard deviation** is less than its `mean + min value`\n",
    "  * **Life Ladder** - looks to be a normal distribution. Its **standard deviation** is less than its `mean + min value`\n",
    "  * **Log GDP per capita** - looks to be a normal distribution. Its **standard deviation** is less than its `mean + min value`\n",
    "  * **Social support** - looks to be a normal distribution. Its **standard deviation** is less than its `mean + min value`\n",
    "  * **Healthy life expectancy at birth** - looks to be a normal distribution. Its **standard deviation** is less than its `mean + min value`\n",
    "  * **Freedom to make life choices** - looks to be a normal distribution. Its **standard deviation** is less than its `mean + min value`\n",
    "  * **Generosity** - **DOES NOT** appear to be a normaldistribution. Its standard deviation is **greater** than its `mean + min value`\n",
    "  * **Perception of corruption** - looks to be a normal distribution. Its **standard deviation** is less than its `mean + min value`\n",
    "  * **Positive affect** - looks to be a normal distribution. Its **standard deviation** is less than its `mean + min value`\n",
    "  * **Negative affect** - looks to be a normal distribution. Its **standard deviation** is less than its `mean + min value`\n",
    "* 1.1.c `std < mean + min` calculations are tabulated below and the calculations' are outlined in the **1.1 Calculations**:\n",
    "```\n",
    "std < mean + min?\n",
    "year            || Std: 4.719 || Mean: 2014.161 || Min: 2005.000 || ( True )\n",
    "Life Ladder     || Std: 1.126 || Mean:    5.479 || Min:    1.281 || ( True )\n",
    "Log GDP pe...   || Std: 1.153 || Mean:    9.390 || Min:    5.527 || ( True )\n",
    "Social sup...   || Std: 0.121 || Mean:    0.811 || Min:    0.228 || ( True )\n",
    "Healthy li...   || Std: 6.901 || Mean:   63.295 || Min:    6.720 || ( True )\n",
    "Freedom to...   || Std: 0.140 || Mean:    0.748 || Min:    0.258 || ( True )\n",
    "Generosity      || Std: 0.161 || Mean:    0.000 || Min:   -0.338 || ( False )\n",
    "Perception...   || Std: 0.186 || Mean:    0.745 || Min:    0.035 || ( True )\n",
    "Positive a...   || Std: 0.106 || Mean:    0.652 || Min:    0.179 || ( True )\n",
    "Negative a...   || Std: 0.087 || Mean:    0.272 || Min:    0.083 || ( True )\n",
    "```\n"
   ],
   "metadata": {
    "collapsed": false
   }
  },
  {
   "cell_type": "markdown",
   "source": [
    "#### 1.1 Calculations"
   ],
   "metadata": {
    "collapsed": false
   }
  },
  {
   "cell_type": "code",
   "execution_count": 39,
   "outputs": [
    {
     "name": "stdout",
     "output_type": "stream",
     "text": [
      "<class 'pandas.core.frame.DataFrame'>\n",
      "RangeIndex: 2199 entries, 0 to 2198\n",
      "Data columns (total 11 columns):\n",
      " #   Column                            Non-Null Count  Dtype  \n",
      "---  ------                            --------------  -----  \n",
      " 0   Country name                      2199 non-null   object \n",
      " 1   year                              2199 non-null   int64  \n",
      " 2   Life Ladder                       2199 non-null   float64\n",
      " 3   Log GDP per capita                2179 non-null   float64\n",
      " 4   Social support                    2186 non-null   float64\n",
      " 5   Healthy life expectancy at birth  2145 non-null   float64\n",
      " 6   Freedom to make life choices      2166 non-null   float64\n",
      " 7   Generosity                        2126 non-null   float64\n",
      " 8   Perceptions of corruption         2083 non-null   float64\n",
      " 9   Positive affect                   2175 non-null   float64\n",
      " 10  Negative affect                   2183 non-null   float64\n",
      "dtypes: float64(9), int64(1), object(1)"
     ]
    }
   ],
   "source": [
    "# 1.1.a\n",
    "whr_data_frame.info(memory_usage=False)"
   ],
   "metadata": {
    "collapsed": false,
    "ExecuteTime": {
     "end_time": "2024-01-26T04:11:24.834674Z",
     "start_time": "2024-01-26T04:11:24.793919Z"
    }
   }
  },
  {
   "cell_type": "code",
   "execution_count": 40,
   "outputs": [
    {
     "data": {
      "text/plain": "              year  Life Ladder  Log GDP per capita  Social support  \\\ncount  2199.000000  2199.000000         2179.000000     2186.000000   \nmean   2014.161437     5.479226            9.389766        0.810679   \nstd       4.718736     1.125529            1.153387        0.120952   \nmin    2005.000000     1.281271            5.526723        0.228217   \n25%    2010.000000     4.646750            8.499764        0.746609   \n50%    2014.000000     5.432437            9.498955        0.835535   \n75%    2018.000000     6.309460           10.373216        0.904792   \nmax    2022.000000     8.018934           11.663788        0.987343   \n\n       Healthy life expectancy at birth  Freedom to make life choices  \\\ncount                       2145.000000                   2166.000000   \nmean                          63.294583                      0.747858   \nstd                            6.901104                      0.140150   \nmin                            6.720000                      0.257534   \n25%                           59.119999                      0.656528   \n50%                           65.050003                      0.769821   \n75%                           68.500000                      0.859382   \nmax                           74.474998                      0.985178   \n\n        Generosity  Perceptions of corruption  Positive affect  \\\ncount  2126.000000                2083.000000      2175.000000   \nmean      0.000096                   0.745195         0.652143   \nstd       0.161083                   0.185837         0.105922   \nmin      -0.337527                   0.035198         0.178886   \n25%      -0.112116                   0.688139         0.571684   \n50%      -0.022671                   0.799654         0.663063   \n75%       0.092070                   0.868827         0.737936   \nmax       0.702708                   0.983276         0.883586   \n\n       Negative affect  \ncount      2183.000000  \nmean          0.271501  \nstd           0.086875  \nmin           0.082737  \n25%           0.207660  \n50%           0.260671  \n75%           0.322894  \nmax           0.704590  ",
      "text/html": "<div>\n<style scoped>\n    .dataframe tbody tr th:only-of-type {\n        vertical-align: middle;\n    }\n\n    .dataframe tbody tr th {\n        vertical-align: top;\n    }\n\n    .dataframe thead th {\n        text-align: right;\n    }\n</style>\n<table border=\"1\" class=\"dataframe\">\n  <thead>\n    <tr style=\"text-align: right;\">\n      <th></th>\n      <th>year</th>\n      <th>Life Ladder</th>\n      <th>Log GDP per capita</th>\n      <th>Social support</th>\n      <th>Healthy life expectancy at birth</th>\n      <th>Freedom to make life choices</th>\n      <th>Generosity</th>\n      <th>Perceptions of corruption</th>\n      <th>Positive affect</th>\n      <th>Negative affect</th>\n    </tr>\n  </thead>\n  <tbody>\n    <tr>\n      <th>count</th>\n      <td>2199.000000</td>\n      <td>2199.000000</td>\n      <td>2179.000000</td>\n      <td>2186.000000</td>\n      <td>2145.000000</td>\n      <td>2166.000000</td>\n      <td>2126.000000</td>\n      <td>2083.000000</td>\n      <td>2175.000000</td>\n      <td>2183.000000</td>\n    </tr>\n    <tr>\n      <th>mean</th>\n      <td>2014.161437</td>\n      <td>5.479226</td>\n      <td>9.389766</td>\n      <td>0.810679</td>\n      <td>63.294583</td>\n      <td>0.747858</td>\n      <td>0.000096</td>\n      <td>0.745195</td>\n      <td>0.652143</td>\n      <td>0.271501</td>\n    </tr>\n    <tr>\n      <th>std</th>\n      <td>4.718736</td>\n      <td>1.125529</td>\n      <td>1.153387</td>\n      <td>0.120952</td>\n      <td>6.901104</td>\n      <td>0.140150</td>\n      <td>0.161083</td>\n      <td>0.185837</td>\n      <td>0.105922</td>\n      <td>0.086875</td>\n    </tr>\n    <tr>\n      <th>min</th>\n      <td>2005.000000</td>\n      <td>1.281271</td>\n      <td>5.526723</td>\n      <td>0.228217</td>\n      <td>6.720000</td>\n      <td>0.257534</td>\n      <td>-0.337527</td>\n      <td>0.035198</td>\n      <td>0.178886</td>\n      <td>0.082737</td>\n    </tr>\n    <tr>\n      <th>25%</th>\n      <td>2010.000000</td>\n      <td>4.646750</td>\n      <td>8.499764</td>\n      <td>0.746609</td>\n      <td>59.119999</td>\n      <td>0.656528</td>\n      <td>-0.112116</td>\n      <td>0.688139</td>\n      <td>0.571684</td>\n      <td>0.207660</td>\n    </tr>\n    <tr>\n      <th>50%</th>\n      <td>2014.000000</td>\n      <td>5.432437</td>\n      <td>9.498955</td>\n      <td>0.835535</td>\n      <td>65.050003</td>\n      <td>0.769821</td>\n      <td>-0.022671</td>\n      <td>0.799654</td>\n      <td>0.663063</td>\n      <td>0.260671</td>\n    </tr>\n    <tr>\n      <th>75%</th>\n      <td>2018.000000</td>\n      <td>6.309460</td>\n      <td>10.373216</td>\n      <td>0.904792</td>\n      <td>68.500000</td>\n      <td>0.859382</td>\n      <td>0.092070</td>\n      <td>0.868827</td>\n      <td>0.737936</td>\n      <td>0.322894</td>\n    </tr>\n    <tr>\n      <th>max</th>\n      <td>2022.000000</td>\n      <td>8.018934</td>\n      <td>11.663788</td>\n      <td>0.987343</td>\n      <td>74.474998</td>\n      <td>0.985178</td>\n      <td>0.702708</td>\n      <td>0.983276</td>\n      <td>0.883586</td>\n      <td>0.704590</td>\n    </tr>\n  </tbody>\n</table>\n</div>"
     },
     "execution_count": 40,
     "metadata": {},
     "output_type": "execute_result"
    }
   ],
   "source": [
    "# 1.1.b\n",
    "whr_data_frame.describe()"
   ],
   "metadata": {
    "collapsed": false,
    "ExecuteTime": {
     "end_time": "2024-01-26T04:11:24.835186Z",
     "start_time": "2024-01-26T04:11:24.801528Z"
    }
   }
  },
  {
   "cell_type": "code",
   "execution_count": 41,
   "outputs": [
    {
     "name": "stdout",
     "output_type": "stream",
     "text": [
      "                                                                     std < mean + min? \n",
      "year            || Std: 4.719 || Mean: 2014.161 || Min: 2005.000 || ( True )\n",
      "Life Ladder     || Std: 1.126 || Mean:    5.479 || Min:    1.281 || ( True )\n",
      "Log GDP pe...   || Std: 1.153 || Mean:    9.390 || Min:    5.527 || ( True )\n",
      "Social sup...   || Std: 0.121 || Mean:    0.811 || Min:    0.228 || ( True )\n",
      "Healthy li...   || Std: 6.901 || Mean:   63.295 || Min:    6.720 || ( True )\n",
      "Freedom to...   || Std: 0.140 || Mean:    0.748 || Min:    0.258 || ( True )\n",
      "Generosity      || Std: 0.161 || Mean:    0.000 || Min:   -0.338 || ( False )\n",
      "Perception...   || Std: 0.186 || Mean:    0.745 || Min:    0.035 || ( True )\n",
      "Positive a...   || Std: 0.106 || Mean:    0.652 || Min:    0.179 || ( True )\n",
      "Negative a...   || Std: 0.087 || Mean:    0.272 || Min:    0.083 || ( True )\n"
     ]
    }
   ],
   "source": [
    "# 1.1.c Analysis of distribution properties for each feature when utilizing std < mean + min calculation.\n",
    "import pandas as pd\n",
    "def std_less_than_mean_min(data_frame: pd.DataFrame, numerical_features: list):\n",
    "    \"\"\"\n",
    "    Helper method for NUMERICAL FEATURES to analyze standard deviation being less than mean + min\n",
    "    :param data_frame: pandas data frame of the world happiness report.\n",
    "    :param numerical_features: list of numerical features to evaluate distribution\n",
    "    \"\"\"\n",
    "    print(\"%-68s std < mean + min? \" % (\" \"))\n",
    "    for feature in numerical_features:\n",
    "        standard_deviation = data_frame[feature].std(axis=0)\n",
    "        mean_value = data_frame[feature].mean(axis=0)\n",
    "        min_value = data_frame[feature].min(axis=0)\n",
    "        is_std_less_than = standard_deviation < (mean_value + min_value)\n",
    "\n",
    "        display_feature = feature\n",
    "        if len(display_feature) > 12:\n",
    "            display_feature = display_feature[0:10] + \"...\"\n",
    "\n",
    "        print(\"%-15s || Std: %0.3f || Mean: %8.3f || Min: %8.3f || ( %r )\" %\n",
    "              (display_feature, standard_deviation, mean_value, min_value, is_std_less_than))\n",
    "\n",
    "# std_less_than_mean_min(data_frame=whr_data_frame)\n",
    "std_less_than_mean_min(data_frame=whr_data_frame,\n",
    "                       numerical_features=['year', 'Life Ladder', 'Log GDP per capita', 'Social support', 'Healthy life expectancy at birth', 'Freedom to make life choices', 'Generosity', 'Perceptions of corruption', 'Positive affect', 'Negative affect'])\n"
   ],
   "metadata": {
    "collapsed": false,
    "ExecuteTime": {
     "end_time": "2024-01-26T04:11:24.835372Z",
     "start_time": "2024-01-26T04:11:24.829315Z"
    }
   }
  },
  {
   "cell_type": "markdown",
   "source": [],
   "metadata": {
    "collapsed": false
   }
  },
  {
   "cell_type": "markdown",
   "source": [
    "## 1.2 How large is the dataset?\n",
    "The dataset has 2199 rows and 11 columns. But from 1.1.a calculations, we see that some features are missing data. See calculations below:"
   ],
   "metadata": {
    "collapsed": false
   }
  },
  {
   "cell_type": "code",
   "execution_count": 42,
   "outputs": [
    {
     "name": "stdout",
     "output_type": "stream",
     "text": [
      "The Dataset has 2199 rows\n",
      "The Dataset has 11 columns\n"
     ]
    }
   ],
   "source": [
    "# 1.2\n",
    "print(f\"The Dataset has {len(whr_data_frame)} rows\")\n",
    "print(f\"The Dataset has {len(whr_data_frame.columns)} columns\")"
   ],
   "metadata": {
    "collapsed": false,
    "ExecuteTime": {
     "end_time": "2024-01-26T04:11:24.839422Z",
     "start_time": "2024-01-26T04:11:24.834192Z"
    }
   }
  },
  {
   "cell_type": "markdown",
   "source": [
    "## 1.3 What are the features (columns) and how are they represented?\n",
    "### There are 11 features. Those features (and their data representations) are outlined below:\n",
    "\n",
    "* `Country name`\n",
    "  * Is an **object / str**\n",
    "  * Is a categorical and nominal data type.\n",
    "* `year`\n",
    "  * Is a **number** of type int64\n",
    "  * Is a numerical and ratio data type.\n",
    "* `Life Ladder`\n",
    "  * Is a **number** of type float64\n",
    "  *\n",
    "* `Log GDP per capita`\n",
    "  * is a **number** of type float64\n",
    "* `social support`\n",
    "  * is a **number** of type float64\n",
    "* `healthy life expectancy at birth`\n",
    "  * is a **number** of type float64\n",
    "* `freedom to make life choices`\n",
    "  * is a **number** of type float64\n",
    "* `generosity`\n",
    "  * is a **number** of type float64\n",
    "* `perceptions of corruption`\n",
    "  * is a **number** of type float64\n",
    "* `positive effect`\n",
    "  * is a **number** of type float64\n",
    "* `negative effect`\n",
    "  * is a **number** of type float64\n"
   ],
   "metadata": {
    "collapsed": false
   }
  }
 ],
 "metadata": {
  "kernelspec": {
   "display_name": "Python 3 (ipykernel)",
   "language": "python",
   "name": "python3"
  },
  "language_info": {
   "codemirror_mode": {
    "name": "ipython",
    "version": 3
   },
   "file_extension": ".py",
   "mimetype": "text/x-python",
   "name": "python",
   "nbconvert_exporter": "python",
   "pygments_lexer": "ipython3",
   "version": "3.9.6"
  }
 },
 "nbformat": 4,
 "nbformat_minor": 5
}
