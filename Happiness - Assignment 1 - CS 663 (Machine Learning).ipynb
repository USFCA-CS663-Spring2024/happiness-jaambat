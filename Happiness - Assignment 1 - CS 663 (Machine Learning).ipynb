{
 "cells": [
  {
   "cell_type": "markdown",
   "source": [
    "# Happiness - Assignment 1\n",
    "```\n",
    "James Ambat\n",
    "Assignment 1\n",
    "CS-663\n",
    "```"
   ],
   "metadata": {
    "collapsed": false
   }
  },
  {
   "cell_type": "markdown",
   "source": [
    "# My Setup\n",
    "\n",
    "From the terminal, create and activate the virtual environment:\n",
    "```\n",
    "cd happiness-jaambat\n",
    "mkdir venv\n",
    "python3 -m venv ./venv\n",
    "source venv/bin/activate\n",
    "```\n",
    "\n",
    "I used PyCharm IDE for development and linked the interpreter with the following steps:\n",
    "```\n",
    "Pycharm -> Settings -> Project: happiness-jaambat\n",
    "Python Interpretter -> Add Interpretter\n",
    "Add Local Interpretter -> /happiness-jaambat/venv\n",
    "```\n",
    "\n",
    "From the terminal, install the required libraries:\n",
    "```\n",
    "pip install -r requirements.txt\n",
    "```"
   ],
   "metadata": {
    "collapsed": false
   }
  },
  {
   "cell_type": "code",
   "execution_count": 29,
   "outputs": [],
   "source": [
    "# Import the libraries for use in the assignment\n",
    "import pandas as pd"
   ],
   "metadata": {
    "collapsed": false,
    "ExecuteTime": {
     "end_time": "2024-01-24T03:20:42.973916Z",
     "start_time": "2024-01-24T03:20:42.959675Z"
    }
   }
  },
  {
   "cell_type": "markdown",
   "source": [
    "# Question 1\n",
    "## The following questions will be addressed in separate headers and cells:\n",
    "1.1 What is your evaluation of the quality of the data?\n",
    "1.2 How large is the dataset?\n",
    "1.3 What are the features (columns) and how are they represented?\n",
    "1.4 Are there any interesting distributions in the (numeric) features?\n",
    "1.5 Are there any interesting correlations in the data?\n",
    "1.6 Can you identify any limitations, missing values or distortions of the data?\n",
    "1.7 What would you like to see in this dataset?"
   ],
   "metadata": {
    "collapsed": false
   }
  },
  {
   "cell_type": "code",
   "execution_count": 30,
   "outputs": [
    {
     "name": "stdout",
     "output_type": "stream",
     "text": [
      "The sheets in the excel file: ['Sheet1']\n",
      "Number of sheets in the excel file 1\n"
     ]
    }
   ],
   "source": [
    "# Read in the data so that it can be analyzed\n",
    "whr_file = \"./DataForTable2.1WHR2023.xls\"\n",
    "whr_data_frame = pd.ExcelFile(whr_file)\n",
    "sheet_names = whr_data_frame.sheet_names\n",
    "print(f\"The sheets in the excel file: {str(sheet_names)}\")\n",
    "print(f\"Number of sheets in the excel file {len(sheet_names)}\")"
   ],
   "metadata": {
    "collapsed": false,
    "ExecuteTime": {
     "end_time": "2024-01-24T03:20:43.008460Z",
     "start_time": "2024-01-24T03:20:42.970184Z"
    }
   }
  },
  {
   "cell_type": "code",
   "execution_count": 31,
   "outputs": [],
   "source": [
    "# There is only one sheet in the file named 'Sheet1'; read-in this sheet\n",
    "sheet_name = sheet_names[0]\n",
    "whr_data_frame = pd.read_excel(io=whr_file, sheet_name=sheet_name)"
   ],
   "metadata": {
    "collapsed": false,
    "ExecuteTime": {
     "end_time": "2024-01-24T03:20:43.046530Z",
     "start_time": "2024-01-24T03:20:43.009973Z"
    }
   }
  },
  {
   "cell_type": "markdown",
   "source": [
    "## 1.2 How large is the dataset?\n",
    "The dataset has 2199 rows and 11 columns. See calculations below:"
   ],
   "metadata": {
    "collapsed": false
   }
  },
  {
   "cell_type": "code",
   "execution_count": 43,
   "outputs": [
    {
     "name": "stdout",
     "output_type": "stream",
     "text": [
      "The Dataset has 2199 rows\n",
      "The Dataset has 11 columns\n"
     ]
    }
   ],
   "source": [
    "print(f\"The Dataset has {len(whr_data_frame)} rows\")\n",
    "print(f\"The Dataset has {len(whr_data_frame.columns)} columns\")"
   ],
   "metadata": {
    "collapsed": false,
    "ExecuteTime": {
     "end_time": "2024-01-24T03:28:09.926787Z",
     "start_time": "2024-01-24T03:28:09.920781Z"
    }
   }
  },
  {
   "cell_type": "markdown",
   "source": [
    "## 1.3 What are the features (columns) and how are they represented?\n",
    "### There are 11 features. Those features are:\n",
    "Country name, year, Life Ladder, Log GDP per capita, social support, healthy life expectancy at birth, freedom to make life choices, generosity, perceptions of corruption, positive effect, negative effect.\n",
    "\n",
    "See data acquisition below:"
   ],
   "metadata": {
    "collapsed": false
   }
  },
  {
   "cell_type": "code",
   "execution_count": 86,
   "outputs": [
    {
     "name": "stdout",
     "output_type": "stream",
     "text": [
      "<class 'pandas.core.frame.DataFrame'>\n",
      "RangeIndex: 2199 entries, 0 to 2198\n",
      "Data columns (total 11 columns):\n",
      " #   Column                            Dtype  \n",
      "---  ------                            -----  \n",
      " 0   Country name                      object \n",
      " 1   year                              int64  \n",
      " 2   Life Ladder                       float64\n",
      " 3   Log GDP per capita                float64\n",
      " 4   Social support                    float64\n",
      " 5   Healthy life expectancy at birth  float64\n",
      " 6   Freedom to make life choices      float64\n",
      " 7   Generosity                        float64\n",
      " 8   Perceptions of corruption         float64\n",
      " 9   Positive affect                   float64\n",
      " 10  Negative affect                   float64\n",
      "dtypes: float64(9), int64(1), object(1)"
     ]
    }
   ],
   "source": [
    "# Acquire info from the data frame and supress unnecessary outputs for the question's response.\n",
    "whr_data_frame.info(memory_usage=False, show_counts=False)"
   ],
   "metadata": {
    "collapsed": false,
    "ExecuteTime": {
     "end_time": "2024-01-24T04:01:16.976931Z",
     "start_time": "2024-01-24T04:01:16.972705Z"
    }
   }
  },
  {
   "cell_type": "code",
   "execution_count": 59,
   "outputs": [],
   "source": [],
   "metadata": {
    "collapsed": false,
    "ExecuteTime": {
     "end_time": "2024-01-24T03:43:30.937194Z",
     "start_time": "2024-01-24T03:43:30.916856Z"
    }
   }
  },
  {
   "cell_type": "code",
   "execution_count": null,
   "outputs": [],
   "source": [],
   "metadata": {
    "collapsed": false
   }
  }
 ],
 "metadata": {
  "kernelspec": {
   "display_name": "Python 3 (ipykernel)",
   "language": "python",
   "name": "python3"
  },
  "language_info": {
   "codemirror_mode": {
    "name": "ipython",
    "version": 3
   },
   "file_extension": ".py",
   "mimetype": "text/x-python",
   "name": "python",
   "nbconvert_exporter": "python",
   "pygments_lexer": "ipython3",
   "version": "3.9.6"
  }
 },
 "nbformat": 4,
 "nbformat_minor": 5
}
